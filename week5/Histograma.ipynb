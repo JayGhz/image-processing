{
  "nbformat": 4,
  "nbformat_minor": 0,
  "metadata": {
    "colab": {
      "private_outputs": true,
      "provenance": []
    },
    "kernelspec": {
      "name": "python3",
      "display_name": "Python 3"
    },
    "language_info": {
      "name": "python"
    }
  },
  "cells": [
    {
      "cell_type": "code",
      "metadata": {
        "id": "Cd1VuVt4idEw"
      },
      "source": [
        "import numpy as np\n",
        "import skimage\n",
        "from skimage.exposure import histogram, cumulative_distribution, equalize_hist\n",
        "from skimage.io import imread\n",
        "import matplotlib.pyplot as plt"
      ],
      "execution_count": null,
      "outputs": []
    },
    {
      "cell_type": "markdown",
      "metadata": {
        "id": "V3vxuNv1U1iX"
      },
      "source": [
        "Vamos a comenzar cargando una imagen proveniente de `skimage.data` en escala de grises"
      ]
    },
    {
      "cell_type": "code",
      "metadata": {
        "id": "QiLerihT9Onj"
      },
      "source": [
        "im = skimage.data.coins()\n",
        "plt.imshow(im, cmap='gray')"
      ],
      "execution_count": null,
      "outputs": []
    },
    {
      "cell_type": "markdown",
      "metadata": {
        "id": "eeZtQy2DVCQO"
      },
      "source": [
        "... podemos calcular el histograma y mostrarlo usando la función `skimage.exposure.histogram`"
      ]
    },
    {
      "cell_type": "code",
      "metadata": {
        "id": "LP-kPU-H9TXv"
      },
      "source": [
        "plt.figure()\n",
        "plt.title(\"Histograma\")\n",
        "plt.xlabel(\"Nivel de intensidad\")\n",
        "plt.ylabel(\"Cantidad de pixels\")\n",
        "hist, bins = histogram(im)\n",
        "plt.plot(bins, hist)\n",
        "plt.show()"
      ],
      "execution_count": null,
      "outputs": []
    },
    {
      "cell_type": "markdown",
      "metadata": {
        "id": "gN7QP6SYVgpm"
      },
      "source": [
        "Igualmente, podemos calcular el histograma normalizado, pasando el parámetro `normalize=True`"
      ]
    },
    {
      "cell_type": "code",
      "metadata": {
        "id": "4ej2d5u4-1k1"
      },
      "source": [
        "plt.figure()\n",
        "plt.title(\"Histograma normalizado\")\n",
        "plt.xlabel(\"Nivel de intensidad\")\n",
        "plt.ylabel(\"% de pixels de la imagen\")\n",
        "plt.plot(histogram(im, normalize=True)[0])\n",
        "plt.show()"
      ],
      "execution_count": null,
      "outputs": []
    },
    {
      "cell_type": "markdown",
      "metadata": {
        "id": "2haiGtf6V0ce"
      },
      "source": [
        "A continuación, podemos observar que el parámetro ´n_bins=10´ no surte ningún efecto. Referirse a la documentación de está función para entender mejor el fenómeno. Ver más en [skimage.exposure.histogram](https://scikit-image.org/docs/dev/api/skimage.exposure.html#skimage.exposure.histogram)"
      ]
    },
    {
      "cell_type": "code",
      "metadata": {
        "id": "uits0_DK_lfW"
      },
      "source": [
        "\n",
        "plt.title(\"Histograma normalizado\")\n",
        "plt.xlabel(\"Nivel de intensidad\")\n",
        "plt.ylabel(\"% de pixels de la imagen\")\n",
        "hist, bins  = skimage.exposure.histogram(im/255., nbins=10 , normalize=True)\n",
        "plt.plot(bins, hist)\n",
        "plt.show()\n"
      ],
      "execution_count": null,
      "outputs": []
    },
    {
      "cell_type": "markdown",
      "metadata": {
        "id": "I9W8LKe0WRKB"
      },
      "source": [
        "A continuación, veamos el efecto de cambiar la cantidad de bins del histograma"
      ]
    },
    {
      "cell_type": "code",
      "metadata": {
        "id": "-3C7Stbm_Ac-"
      },
      "source": [
        "#@title El efecto de la cantidad de bins { run: \"auto\" }\n",
        "n_bins = 23 #@param {type:\"slider\", min:1, max:256, step:1}\n",
        "\n",
        "plt.figure()\n",
        "plt.title(\"Histograma normalizado con {} bins\".format(n_bins))\n",
        "plt.xlabel(\"Nivel de intensidad (normalizado)\")\n",
        "plt.ylabel(\"% de pixels de la imagen\")\n",
        "hist, bins  = skimage.exposure.histogram(im/255., nbins=n_bins , normalize=True)\n",
        "plt.plot(bins, hist)\n",
        "plt.show()"
      ],
      "execution_count": null,
      "outputs": []
    },
    {
      "cell_type": "markdown",
      "metadata": {
        "id": "C1KZ7MovHqNE"
      },
      "source": [
        "### Histograma a colores\n",
        "\n",
        "A continuación, veamos cómo calcular el histograma de una imagen a color. Comencemos cargando la imagen **astronaut** de `skimage.data`."
      ]
    },
    {
      "cell_type": "code",
      "metadata": {
        "id": "3WcHFzws9wuJ"
      },
      "source": [
        "im = skimage.data.astronaut()\n",
        "plt.imshow(im)"
      ],
      "execution_count": null,
      "outputs": []
    },
    {
      "cell_type": "markdown",
      "metadata": {
        "id": "e8Mmfyo4X3mU"
      },
      "source": [
        "Para calcular el histograma, llamamos a la función `skimage.exposure.histogram` 3 veces, una para cada canal de la imagen **RGB**."
      ]
    },
    {
      "cell_type": "code",
      "metadata": {
        "id": "QbLKMCXV-Y6U"
      },
      "source": [
        "plt.figure()\n",
        "plt.ylim(0, 0.01)\n",
        "plt.title(\"Histograma RGB\")\n",
        "x = np.arange(256)\n",
        "plt.xlabel(\"Nivel de intensidad\")\n",
        "plt.ylabel(\"% de pixels\")\n",
        "plt.fill_between(x, 0, histogram(im[:,:,0], normalize=True)[0], alpha=0.2, color='red')\n",
        "plt.fill_between(x, 0, histogram(im[:,:,1], normalize=True)[0], alpha=0.2, color='green')\n",
        "plt.fill_between(x, 0, histogram(im[:,:,2], normalize=True)[0], alpha=0.2, color='blue')\n",
        "plt.show()"
      ],
      "execution_count": null,
      "outputs": []
    },
    {
      "cell_type": "markdown",
      "metadata": {
        "id": "aTJoHZgtfxGx"
      },
      "source": [
        "### Histograma acumulado\n",
        "\n",
        "A continuación, usaremos la misma imagen y la función `skimage.exposure.cumulative_distribution`para mostrar el histograma acumulado."
      ]
    },
    {
      "cell_type": "code",
      "metadata": {
        "id": "8WIL8Bql-siF"
      },
      "source": [
        "plt.figure()\n",
        "\n",
        "plt.title(\"Histograma AcumuladoRGB\")\n",
        "x = np.arange(256)\n",
        "plt.xlabel(\"Nivel de intensidad\")\n",
        "plt.ylabel(\"% de pixels acumulados\")\n",
        "plt.fill_between(x, 0, cumulative_distribution(im[:,:,2])[0],  color='blue')\n",
        "plt.fill_between(x, 0, cumulative_distribution(im[:,:,1])[0],  color='green')\n",
        "plt.fill_between(x, 0, cumulative_distribution(im[:,:,0])[0],  color='red')\n",
        "\n",
        "plt.show()"
      ],
      "execution_count": null,
      "outputs": []
    },
    {
      "cell_type": "markdown",
      "metadata": {
        "id": "S9S5IQbF7wYQ"
      },
      "source": [
        "### Ecualización de histograma\n",
        "\n",
        "A continuación, vamos a trabajar con la ecualización del histograma. Leeremos una imagen de bajo contraste"
      ]
    },
    {
      "cell_type": "code",
      "metadata": {
        "id": "zcQbkao-gGgG"
      },
      "source": [
        "im = imread('http://www.maths.lth.se/matematiklth/personal/solem/downloads/AquaTermi_lowcontrast.JPG')/255\n",
        "plt.imshow(im, cmap='gray', vmin=0, vmax=1)"
      ],
      "execution_count": null,
      "outputs": []
    },
    {
      "cell_type": "markdown",
      "metadata": {
        "id": "RQRejld1Juey"
      },
      "source": [
        "Podemos verificar que la imagen es de bajo contraste observando el histograma (en este caso, solo del canal Rojo)"
      ]
    },
    {
      "cell_type": "code",
      "metadata": {
        "id": "nn5yBOVZ8Wwq"
      },
      "source": [
        "hist, bins = histogram(im[:,:,0], normalize=True)\n",
        "plt.title(\"Histograma\")\n",
        "plt.plot(bins, hist)\n",
        "plt.xlabel(\"Nivel de intensidad normalizado\")\n",
        "plt.ylabel(\"Porcentaje de la imagen\")\n",
        "plt.xlim(0, 1)"
      ],
      "execution_count": null,
      "outputs": []
    },
    {
      "cell_type": "markdown",
      "metadata": {
        "id": "2-3Q_-LjJ30F"
      },
      "source": [
        "También podemos observar el histograma acumulado"
      ]
    },
    {
      "cell_type": "code",
      "metadata": {
        "id": "Mhepdv4j8jUi"
      },
      "source": [
        "plt.figure()\n",
        "\n",
        "plt.title(\"Histograma Acumulado RGB\")\n",
        "plt.xlabel(\"Nivel de intensidad\")\n",
        "plt.xlim(0,1)\n",
        "plt.ylabel(\"% de pixels acumulados\")\n",
        "plt.fill_between(cumulative_distribution(im[:,:,2])[1], 0, cumulative_distribution(im[:,:,2])[0], alpha=0.2, color='blue')\n",
        "plt.fill_between(cumulative_distribution(im[:,:,0])[1], 0, cumulative_distribution(im[:,:,0])[0], alpha=0.2, color='red')\n",
        "plt.fill_between(cumulative_distribution(im[:,:,1])[1], 0, cumulative_distribution(im[:,:,1])[0], alpha=0.2, color='green')\n",
        "\n",
        "plt.show()"
      ],
      "execution_count": null,
      "outputs": []
    },
    {
      "cell_type": "markdown",
      "metadata": {
        "id": "y5bWf8kpJ7Ql"
      },
      "source": [
        "Finalmente, podemos llamar a la función `skimage.exposure.equalize_hist` para ecualizar la imagen y a continuación se muestra"
      ]
    },
    {
      "cell_type": "code",
      "metadata": {
        "id": "AEj6fuOO-Faq"
      },
      "source": [
        "im_ecualizada = equalize_hist(im)\n",
        "plt.imshow(im_ecualizada)"
      ],
      "execution_count": null,
      "outputs": []
    },
    {
      "cell_type": "code",
      "metadata": {
        "id": "u-SOHAVWH_Ak"
      },
      "source": [
        "hist, bins = histogram(im_ecualizada[:,:,0], normalize=True, nbins=32)\n",
        "plt.title(\"Histograma\")\n",
        "plt.plot(bins, hist)\n",
        "plt.xlabel(\"Nivel de intensidad normalizado\")\n",
        "plt.ylabel(\"Porcentaje de la imagen\")\n",
        "plt.xlim(0, 1)"
      ],
      "execution_count": null,
      "outputs": []
    },
    {
      "cell_type": "code",
      "metadata": {
        "id": "13QmeqaTzIoN"
      },
      "source": [
        "plt.figure()\n",
        "\n",
        "plt.title(\"Histograma Acumulado RGB\")\n",
        "plt.xlabel(\"Nivel de intensidad\")\n",
        "plt.xlim(0,1)\n",
        "plt.ylabel(\"% de pixels acumulados\")\n",
        "plt.fill_between(cumulative_distribution(im_ecualizada[:,:,2])[1], 0, cumulative_distribution(im_ecualizada[:,:,2])[0], alpha=0.2, color='blue')\n",
        "plt.fill_between(cumulative_distribution(im_ecualizada[:,:,0])[1], 0, cumulative_distribution(im_ecualizada[:,:,0])[0], alpha=0.2, color='red')\n",
        "plt.fill_between(cumulative_distribution(im_ecualizada[:,:,1])[1], 0, cumulative_distribution(im_ecualizada[:,:,1])[0], alpha=0.2, color='green')\n",
        "\n",
        "plt.show()"
      ],
      "execution_count": null,
      "outputs": []
    }
  ]
}